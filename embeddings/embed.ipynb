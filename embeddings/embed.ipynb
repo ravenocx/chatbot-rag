{
 "cells": [
  {
   "cell_type": "code",
   "execution_count": 1,
   "metadata": {},
   "outputs": [
    {
     "name": "stdout",
     "output_type": "stream",
     "text": [
      "id : 4\n",
      "uid : 2T05-BM3RQyVd-8pnp\n",
      "product_type : 102\n",
      "seller_id : 2\n",
      "warranty_policy : None\n",
      "brand_id : None\n",
      "category_id : 7\n",
      "sub_category_id : None\n",
      "name : Poeticluzien Black Hoodie Heart Unisex - M\n",
      "slug : poeticluzien-black-hoodie-heart-unisex-m\n",
      "price : 180000.00000000\n",
      "shipping_fee : 10001.0\n",
      "shipping_fee_multiply : 0\n",
      "discount : None\n",
      "discount_percentage : 0E-8\n",
      "featured_image : 681a5705047491746556677.png\n",
      "short_description : <!DOCTYPE html PUBLIC \"-//W3C//DTD HTML 4.0 Transitional//EN\" \"http://www.w3.org/TR/REC-html40/loose.dtd\">\n",
      "<html><head><meta http-equiv=\"Content-Type\" content=\"text/html; charset=utf-8\"></head><body><span style=\"color: rgb(8, 8, 8); font-family: \" open sauce one sans-serif font-size:>Material Cotton Fleece Selisih 1-3cm memungkinkan karena proses pengukuran, pengembangan produksi menggunakan keterampilan tangan penjahit. Ada kemungkinan warna produk sesungguhnya berbeda karena setiap layar memiliki kemampuan yang berbeda beda dalam menampilkan warna. Kami tidak menjamin bahwa warna yang ada lihat adalah warna produk yang akurat 100%</span></body></html>\n",
      "\n",
      "description : <!DOCTYPE html PUBLIC \"-//W3C//DTD HTML 4.0 Transitional//EN\" \"http://www.w3.org/TR/REC-html40/loose.dtd\">\n",
      "<html><head><meta http-equiv=\"Content-Type\" content=\"text/html; charset=utf-8\"></head><body><span style=\"color: rgb(8, 8, 8); font-family: \" open sauce one sans-serif font-size:>MOHON DIPERHATIKAN Kami tidak menerima penukaran size atau pengembalian, untuk sizing diperhatikan dengan baik baik karena semua baju kami sesuai dengan size chart yang tertera di deskripsi. ------------------------------------------- Material Cotton Fleece Selisih 1-3cm memungkinkan karena proses pengukuran, pengembangan produksi menggunakan keterampilan tangan penjahit. Ada kemungkinan warna produk sesungguhnya berbeda karena setiap layar memiliki kemampuan yang berbeda beda dalam menampilkan warna. Kami tidak menjamin bahwa warna yang ada lihat adalah warna produk yang akurat 100%. Pria : Tinggi 175 -180 cm, Berat 75 kg, Menggunakan Ukuran XL Wanita : Tinggi 165- 170 cm, Berat 55 kg, Menggunakan Ukuran M Size Chart Hoodie ------------------------------------------ Medium : • Panjang Tangan : 60 cm • Lebar Dada: 60 cm • Panjang Badan : 60 cm ------------------------------------------ Large : • Panjang Tangan : 66 cm • Lebar Dada: 64 cm • Panjang Badan : 68 cm ------------------------------------------ Extra Large : • Panjang Tangan : 68 cm • Lebar Dada: 64 cm • Panjang Badan : 73 cm ------------------------------------------ Pelajari dahulu spec diatas sebelum membeli ya. Membeli berarti Memahami. Cheers ! ------------------------------------------ Syarat amp; Ketentuan Return Produk : - Barang di tukar maksimal 3 hari setelah penerimaan barang - Hang tag label masih terpasang Di Pastikan Setiap Pembukaan Packing Melakukan Video/Foto , Jika Produk Cacat atau Salah Ukuran, Bisa Divalidasi Melalui Video/Foto , Jika Tidak Ada Bukti Video/Foto, Maka Dianggap Tidak Sah Untuk Return.</span></body></html>\n",
      "\n",
      "shipping_country : None\n",
      "attributes : [\"2\"]\n",
      "variant_product : 1\n",
      "attributes_value : [{\"attribute_id\":\"2\",\"values\":[\"s\",\"m\",\"l\"]}]\n",
      "meta_title : None\n",
      "meta_image : 681a5705047491746556677.png\n",
      "meta_keywords : None\n",
      "meta_description : None\n",
      "minimum_purchase_qty : 1\n",
      "maximum_purchase_qty : 100\n",
      "top_status : 2\n",
      "featured_status : 2\n",
      "best_selling_item_status : 1\n",
      "is_suggested : 0\n",
      "weight : 0.1\n",
      "point : 180\n",
      "custom_fileds : None\n",
      "status : 1\n",
      "deleted_at : None\n",
      "created_at : 2025-05-06 18:37:57\n",
      "updated_at : 2025-05-07 13:59:39\n",
      "category_name : {\"id\":\"Pakaian\"}\n",
      "sub_category_name : None\n",
      "brand_name : None\n"
     ]
    }
   ],
   "source": [
    "import helpers.db as db\n",
    "import helpers.document_utils as utils\n",
    "from langchain.schema import Document\n",
    "\n",
    "conn = db.db_connection()\n",
    "products = db.get_all_products(conn)\n",
    "attributes = db.get_all_attributes(conn)\n",
    "\n",
    "for key, value in products[2].items():\n",
    "    print(f\"{key} : {value}\")\n"
   ]
  },
  {
   "cell_type": "code",
   "execution_count": 2,
   "metadata": {},
   "outputs": [],
   "source": [
    "# print(utils.product_page_content(products[0], attributes))"
   ]
  },
  {
   "cell_type": "code",
   "execution_count": 3,
   "metadata": {},
   "outputs": [],
   "source": [
    "documents = utils.generate_product_documents(products, attributes)"
   ]
  }
 ],
 "metadata": {
  "kernelspec": {
   "display_name": "Python 3",
   "language": "python",
   "name": "python3"
  },
  "language_info": {
   "codemirror_mode": {
    "name": "ipython",
    "version": 3
   },
   "file_extension": ".py",
   "mimetype": "text/x-python",
   "name": "python",
   "nbconvert_exporter": "python",
   "pygments_lexer": "ipython3",
   "version": "3.13.3"
  },
  "orig_nbformat": 4
 },
 "nbformat": 4,
 "nbformat_minor": 2
}
