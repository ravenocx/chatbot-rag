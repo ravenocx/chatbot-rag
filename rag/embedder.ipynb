{
 "cells": [
  {
   "cell_type": "code",
   "execution_count": 1,
   "metadata": {},
   "outputs": [
    {
     "name": "stdout",
     "output_type": "stream",
     "text": [
      "---Sample product---\n",
      "id: 1\n",
      "uid: 8Hjz-PQh4UF0m-laF8\n",
      "product_type: 102\n",
      "seller_id: 1\n",
      "warranty_policy: None\n",
      "brand_id: 1\n",
      "category_id: 1\n",
      "sub_category_id: 2\n",
      "name: Samsung Galaxy S25 Ultra 5G ( 12/256 12/512 12/1Tera ) Garansi Resmi\n",
      "slug: samsung-galaxy-s25-ultra\n",
      "price: 17549000.00000000\n",
      "shipping_fee: 20000.0\n",
      "shipping_fee_multiply: 0\n",
      "discount: None\n",
      "discount_percentage: 0E-8\n",
      "featured_image: 681a169ef27251746540190.jpg\n",
      "short_description: <!DOCTYPE html PUBLIC \"-//W3C//DTD HTML 4.0 Transitional//EN\" \"http://www.w3.org/TR/REC-html40/loose.dtd\">\n",
      "<html><head><meta http-equiv=\"Content-Type\" content=\"text/html; charset=utf-8\">\n",
      "<meta http-equiv=\"Content-Type\" content=\"text/html; charset=utf-8\"></head><body><span style=\"color: rgb(8, 8, 8); font-family: \" open sauce one sans-serif font-size:>Sambut era baru Smartphone dengan AI yang selangkah lebih maju untuk setiap kebutuhan Anda. Biarkan AI membantu Anda untuk menyelesaikan tugas sehari-hari dengan mudah.</span><br style=\"box-sizing: inherit; color: rgb(8, 8, 8); font-family: \" open sauce one sans-serif font-size:></body></html>\n",
      "\n",
      "description: <!DOCTYPE html PUBLIC \"-//W3C//DTD HTML 4.0 Transitional//EN\" \"http://www.w3.org/TR/REC-html40/loose.dtd\">\n",
      "<html><head><meta http-equiv=\"Content-Type\" content=\"text/html; charset=utf-8\">\n",
      "<meta http-equiv=\"Content-Type\" content=\"text/html; charset=utf-8\"></head><body><span style=\"color: rgb(8, 8, 8); font-family: \" open sauce one sans-serif font-size:>NOTE: Khusus bonus Watch series yang dapat FREE akan dikirim random sesuai stock yang ada, untuk yang TOP UP bisa tanyakan dulu stock warna yang ready.</span><br style=\"box-sizing: inherit; color: rgb(8, 8, 8); font-family: \" open sauce one sans-serif font-size:><br style=\"box-sizing: inherit; color: rgb(8, 8, 8); font-family: \" open sauce one sans-serif font-size:><span style=\"color: rgb(8, 8, 8); font-family: \" open sauce one sans-serif font-size:>Galaxy AI - Sambut era baru Smartphone dengan AI yang selangkah lebih maju untuk setiap kebutuhan Anda. Biarkan AI membantu Anda untuk menyelesaikan tugas sehari-hari dengan mudah.</span><br style=\"box-sizing: inherit; color: rgb(8, 8, 8); font-family: \" open sauce one sans-serif font-size:><br style=\"box-sizing: inherit; color: rgb(8, 8, 8); font-family: \" open sauce one sans-serif font-size:><span style=\"color: rgb(8, 8, 8); font-family: \" open sauce one sans-serif font-size:>Desain - Desain Galaxy S25 Ultra yang memperlihatkan identitas S Series dari bingkai titanium yang ramping dan kuat serta S Pen bawaan.</span><br style=\"box-sizing: inherit; color: rgb(8, 8, 8); font-family: \" open sauce one sans-serif font-size:><br style=\"box-sizing: inherit; color: rgb(8, 8, 8); font-family: \" open sauce one sans-serif font-size:><span style=\"color: rgb(8, 8, 8); font-family: \" open sauce one sans-serif font-size:>Kamera - ProVisual Engine sekarang didukung oleh prosesor kami yang bertenaga—memungkinkan Anda untuk mengambil, melihat, dan mengedit untuk pengalaman kamera dan pengeditan terbaik hingga saat ini.</span><br style=\"box-sizing: inherit; color: rgb(8, 8, 8); font-family: \" open sauce one sans-serif font-size:><br style=\"box-sizing: inherit; color: rgb(8, 8, 8); font-family: \" open sauce one sans-serif font-size:><span style=\"color: rgb(8, 8, 8); font-family: \" open sauce one sans-serif font-size:>Performa - Prosesor terkuat yang dibuat khusus untuk Galaxy. Bersama dengan peningkatan ray tracing real-time dan optimasi Vulkan, selami aksi dan rasakan gameplay yang sangat halus dan imersif.</span><br style=\"box-sizing: inherit; color: rgb(8, 8, 8); font-family: \" open sauce one sans-serif font-size:><br style=\"box-sizing: inherit; color: rgb(8, 8, 8); font-family: \" open sauce one sans-serif font-size:><span style=\"color: rgb(8, 8, 8); font-family: \" open sauce one sans-serif font-size:>Baterai - Teknologi mDNIe telah dibangun ke dalam AP (Application Processor/Prosesor Aplikasi) khusus, dan dengan optimasi perangkat lunak, waktu penggunaan baterai ditingkatkan sehingga Anda dapat menikmati berjam-jam menonton video.</span><br style=\"box-sizing: inherit; color: rgb(8, 8, 8); font-family: \" open sauce one sans-serif font-size:><br style=\"box-sizing: inherit; color: rgb(8, 8, 8); font-family: \" open sauce one sans-serif font-size:><span style=\"color: rgb(8, 8, 8); font-family: \" open sauce one sans-serif font-size:>One UI - Dapatkan akses langsung ke peringatan Now Brief, musik, pengatur waktu, dan lainnya dari Now Bar yang serba baru tanpa harus membuka kunci ponsel Anda. Dikombinasikan dengan widget yang dapat disesuaikan, antarmuka ini dibuat agar sesuai dengan Anda.</span><br style=\"box-sizing: inherit; color: rgb(8, 8, 8); font-family: \" open sauce one sans-serif font-size:><br style=\"box-sizing: inherit; color: rgb(8, 8, 8); font-family: \" open sauce one sans-serif font-size:><span style=\"color: rgb(8, 8, 8); font-family: \" open sauce one sans-serif font-size:>Performa</span><br style=\"box-sizing: inherit; color: rgb(8, 8, 8); font-family: \" open sauce one sans-serif font-size:><span style=\"color: rgb(8, 8, 8); font-family: \" open sauce one sans-serif font-size:>- Prosesor: Snapdragon 8 Elite for Galaxy (3nm)</span><br style=\"box-sizing: inherit; color: rgb(8, 8, 8); font-family: \" open sauce one sans-serif font-size:><span style=\"color: rgb(8, 8, 8); font-family: \" open sauce one sans-serif font-size:>- RAM: 12GB</span><br style=\"box-sizing: inherit; color: rgb(8, 8, 8); font-family: \" open sauce one sans-serif font-size:><span style=\"color: rgb(8, 8, 8); font-family: \" open sauce one sans-serif font-size:>- Storage: 256GB</span><br style=\"box-sizing: inherit; color: rgb(8, 8, 8); font-family: \" open sauce one sans-serif font-size:><span style=\"color: rgb(8, 8, 8); font-family: \" open sauce one sans-serif font-size:>- Network: 5G Ready</span><br style=\"box-sizing: inherit; color: rgb(8, 8, 8); font-family: \" open sauce one sans-serif font-size:><br style=\"box-sizing: inherit; color: rgb(8, 8, 8); font-family: \" open sauce one sans-serif font-size:><span style=\"color: rgb(8, 8, 8); font-family: \" open sauce one sans-serif font-size:>Display</span><br style=\"box-sizing: inherit; color: rgb(8, 8, 8); font-family: \" open sauce one sans-serif font-size:><span style=\"color: rgb(8, 8, 8); font-family: \" open sauce one sans-serif font-size:>- 6,9 inch QHD+</span><br style=\"box-sizing: inherit; color: rgb(8, 8, 8); font-family: \" open sauce one sans-serif font-size:><span style=\"color: rgb(8, 8, 8); font-family: \" open sauce one sans-serif font-size:>- Dynamic AMOLED 2X, 1-120Hz</span><br style=\"box-sizing: inherit; color: rgb(8, 8, 8); font-family: \" open sauce one sans-serif font-size:><br style=\"box-sizing: inherit; color: rgb(8, 8, 8); font-family: \" open sauce one sans-serif font-size:><span style=\"color: rgb(8, 8, 8); font-family: \" open sauce one sans-serif font-size:>Kamera</span><br style=\"box-sizing: inherit; color: rgb(8, 8, 8); font-family: \" open sauce one sans-serif font-size:><span style=\"color: rgb(8, 8, 8); font-family: \" open sauce one sans-serif font-size:>- Kamera Belakang: 200 MP Wide + 50 MP Ultra Wide + 50 MP Telephoto + 10MP Telephoto</span><br style=\"box-sizing: inherit; color: rgb(8, 8, 8); font-family: \" open sauce one sans-serif font-size:><span style=\"color: rgb(8, 8, 8); font-family: \" open sauce one sans-serif font-size:>- Auto Focus Kamera Utama: Ya</span><br style=\"box-sizing: inherit; color: rgb(8, 8, 8); font-family: \" open sauce one sans-serif font-size:><span style=\"color: rgb(8, 8, 8); font-family: \" open sauce one sans-serif font-size:>- OIS: Ya</span><br style=\"box-sizing: inherit; color: rgb(8, 8, 8); font-family: \" open sauce one sans-serif font-size:><span style=\"color: rgb(8, 8, 8); font-family: \" open sauce one sans-serif font-size:>- Kamera Depan: 12 MP</span><br style=\"box-sizing: inherit; color: rgb(8, 8, 8); font-family: \" open sauce one sans-serif font-size:><span style=\"color: rgb(8, 8, 8); font-family: \" open sauce one sans-serif font-size:>- Resolusi Video: UHD 8K (7680 X 4320) l @24fps </span><br style=\"box-sizing: inherit; color: rgb(8, 8, 8); font-family: \" open sauce one sans-serif font-size:><br style=\"box-sizing: inherit; color: rgb(8, 8, 8); font-family: \" open sauce one sans-serif font-size:><span style=\"color: rgb(8, 8, 8); font-family: \" open sauce one sans-serif font-size:>Baterai</span><br style=\"box-sizing: inherit; color: rgb(8, 8, 8); font-family: \" open sauce one sans-serif font-size:><span style=\"color: rgb(8, 8, 8); font-family: \" open sauce one sans-serif font-size:>- Kapasitas: 5000mAh</span><br style=\"box-sizing: inherit; color: rgb(8, 8, 8); font-family: \" open sauce one sans-serif font-size:><span style=\"color: rgb(8, 8, 8); font-family: \" open sauce one sans-serif font-size:>- Jenis Pengisian Daya: Super Fast Charging, Fast Wireless Charging 2.0, Wireless PowerShare</span><br style=\"box-sizing: inherit; color: rgb(8, 8, 8); font-family: \" open sauce one sans-serif font-size:><br style=\"box-sizing: inherit; color: rgb(8, 8, 8); font-family: \" open sauce one sans-serif font-size:><span style=\"color: rgb(8, 8, 8); font-family: \" open sauce one sans-serif font-size:>Ketangguhan</span><br style=\"box-sizing: inherit; color: rgb(8, 8, 8); font-family: \" open sauce one sans-serif font-size:><span style=\"color: rgb(8, 8, 8); font-family: \" open sauce one sans-serif font-size:>- Corning Gorilla Armor 2 (front), Corning Gorilla Glass Victus2 (back)</span><br style=\"box-sizing: inherit; color: rgb(8, 8, 8); font-family: \" open sauce one sans-serif font-size:><span style=\"color: rgb(8, 8, 8); font-family: \" open sauce one sans-serif font-size:>- Titanium frame</span><br style=\"box-sizing: inherit; color: rgb(8, 8, 8); font-family: \" open sauce one sans-serif font-size:><span style=\"color: rgb(8, 8, 8); font-family: \" open sauce one sans-serif font-size:>- IP68 Water & Dust Resistance</span><br style=\"box-sizing: inherit; color: rgb(8, 8, 8); font-family: \" open sauce one sans-serif font-size:><br style=\"box-sizing: inherit; color: rgb(8, 8, 8); font-family: \" open sauce one sans-serif font-size:><span style=\"color: rgb(8, 8, 8); font-family: \" open sauce one sans-serif font-size:>Jaminan PASTI ORI - Garansi resmi SEIN</span></body></html>\n",
      "\n",
      "shipping_country: [\"Indonesia\", \"Malaysia\"]\n",
      "attributes: [\"1\", \"4\"]\n",
      "variant_product: 1\n",
      "attributes_value: [{\"attribute_id\":\"1\",\"values\":[\"hitam\", \"merah\"]}, \n",
      "{\"attribute_id\":\"4\",\"values\":[\"1tb\"]}]\n",
      "meta_title: None\n",
      "meta_image: 681a169ef27251746540190.jpg\n",
      "meta_keywords: None\n",
      "meta_description: None\n",
      "minimum_purchase_qty: 1\n",
      "maximum_purchase_qty: 10\n",
      "top_status: 2\n",
      "featured_status: 2\n",
      "best_selling_item_status: 2\n",
      "is_suggested: 0\n",
      "weight: 0.7\n",
      "point: 1999\n",
      "custom_fileds: None\n",
      "status: 1\n",
      "deleted_at: None\n",
      "created_at: 2025-05-06 14:03:11\n",
      "updated_at: 2025-05-06 14:17:11\n",
      "category_name: {\"id\":\"Elektronik\"}\n",
      "sub_category_name: {\"id\":\"Handphone\"}\n",
      "brand_name: {\"en\":\"Samsung\"}\n"
     ]
    }
   ],
   "source": [
    "import db.database as db\n",
    "import helpers.document_utils as utils\n",
    "\n",
    "conn = db.db_connection()\n",
    "products = db.get_all_products(conn)\n",
    "attributes = db.get_all_attributes(conn)\n",
    "\n",
    "print(\"---Sample product---\")\n",
    "for k, v in products[0].items():\n",
    "    print(f\"{k}: {v}\")\n",
    "\n",
    "conn.close()"
   ]
  },
  {
   "cell_type": "code",
   "execution_count": 2,
   "metadata": {},
   "outputs": [
    {
     "name": "stdout",
     "output_type": "stream",
     "text": [
      "---Sample product document---\n",
      "**Product Name**: Kemeja Unisex Erigo Short Shirt Jazlyn Black - Jazlyn Black\n",
      "\n",
      "**Description**: Erigo Short Shirt Rayon kemeja pendek berbahan rayon kami dirancang untuk memberikan sentuhan yang lembut dan ringan di kulit, kemeja ini menjadi pilihan ideal untuk tampil kasual yang tetap terlihat rapi.\n",
      "Rayon memiliki sifat elastisitas yang memungkinkan fleksibilitas gerakan yang lebih baik, menjadikan kemeja ini pilihan yang tepat untuk kegiatan sehari-hari. Tersedia dalam berbagai pilihan warna yang menarik, memungkinkan untuk mengekspresikan gaya pribadi dengan lebih bebas.\n",
      "Reverensi Size\n",
      "Untuk Model Pria: Tinggi 185-186 cm, Berat 75 kg, Menggunakan Ukuran XL\n",
      "Untuk Model Wanita: Tinggi 168-170 cm, Berat 55 kg, Menggunakan Ukuran M\n",
      "Bahan: Katun Rayon\n",
      "PERHATIAN\n",
      "Kain bahan rayon merupakan jenis kain yang menyusut setelah dicuci. Disarankan untuk memilih size 1 tingkat lebih besar dari size biasanya.\n",
      "Toleransi setiap size 1-1cm\n",
      "\n",
      "Product \"Kemeja Unisex Erigo Short Shirt Jazlyn Black - Jazlyn Black\" falls under the Pakaian > Uncategorized category, from the brand Unbranded. It comes with no warranty specified. This product is a top product. It is featured product on our platform.\n",
      "\n",
      "**Key features and specifications include**:\n",
      "- **Ukuran**: m, l\n",
      "Weight: 0.1 KG\n",
      "Variants available: 1 option(s)\n",
      "Minimum purchase quantity: 1\n",
      "Maximum purchase quantity: 100\n",
      "\n",
      "**Price**: Rp94.000,00\n",
      "Discount: Rp0,00\n",
      "Shipping Fee: Rp10.000,00\n",
      "Shipping information is currently unavailable.\n"
     ]
    }
   ],
   "source": [
    "documents = utils.generate_product_documents(products, attributes)\n",
    "print(\"---Sample product document---\")\n",
    "print(documents[4].page_content)"
   ]
  },
  {
   "cell_type": "code",
   "execution_count": 3,
   "metadata": {},
   "outputs": [],
   "source": [
    "from transformers import AutoTokenizer\n",
    "\n",
    "tokenizer = AutoTokenizer.from_pretrained(\"BAAI/bge-m3\")\n",
    "\n",
    "texts = [f\"Passage: {doc.page_content}\" for doc in documents]\n",
    "\n",
    "for i, text in enumerate(texts):\n",
    "    tokens = tokenizer.encode(text, truncation=False)\n",
    "    # print(f\"Doc {i} → {len(tokens)} tokens\")\n",
    "\n",
    "    if len(tokens) > 8194:\n",
    "        print(f\"⚠️  Exceeds token limit! Token: \", len(tokens))"
   ]
  },
  {
   "cell_type": "code",
   "execution_count": 4,
   "metadata": {},
   "outputs": [
    {
     "name": "stdout",
     "output_type": "stream",
     "text": [
      "Sample chunk: Passage: **Product Name**: Samsung Galaxy S25 Ultra 5G ( 12/256 12/512 12/1Tera ) Garansi Resmi\n",
      "\n",
      "**Description**: NOTE: Khusus bonus Watch series yang dapat FREE akan dikirim random sesuai stock yang ...\n"
     ]
    },
    {
     "data": {
      "application/vnd.jupyter.widget-view+json": {
       "model_id": "4d6a14c3615642f18912a7b64e38c02a",
       "version_major": 2,
       "version_minor": 0
      },
      "text/plain": [
       "Batches:   0%|          | 0/4 [00:00<?, ?it/s]"
      ]
     },
     "metadata": {},
     "output_type": "display_data"
    },
    {
     "name": "stdout",
     "output_type": "stream",
     "text": [
      "Embeddings shape: (104, 1024)\n",
      "Embedding dimension: 1024\n"
     ]
    }
   ],
   "source": [
    "from sentence_transformers import SentenceTransformer\n",
    "\n",
    "# from langchain.text_splitter import RecursiveCharacterTextSplitter\n",
    "\n",
    "# splitter = RecursiveCharacterTextSplitter(\n",
    "#     chunk_size=1024, \n",
    "#     chunk_overlap=100,\n",
    "#     strip_whitespace=True,\n",
    "#     separators=[\"\\n\\n\", \"\\n\", \".\", \" \", \"\"],\n",
    "#     keep_separator=False\n",
    "# )\n",
    "# chunks = splitter.split_documents(documents)\n",
    "\n",
    "texts = [f\"Passage: {doc.page_content}\" for doc in documents]\n",
    "\n",
    "print(f\"Sample chunk: {texts[0][:200]}...\")\n",
    "\n",
    "model = SentenceTransformer('BAAI/bge-m3')\n",
    "\n",
    "embeddings = model.encode(\n",
    "    texts,\n",
    "    show_progress_bar=True,\n",
    "    convert_to_numpy=True,\n",
    "    normalize_embeddings=True  # for cosine similarity\n",
    ")\n",
    "\n",
    "print(f\"Embeddings shape: {embeddings.shape}\")\n",
    "print(f\"Embedding dimension: {embeddings.shape[1]}\")"
   ]
  },
  {
   "cell_type": "code",
   "execution_count": 5,
   "metadata": {},
   "outputs": [
    {
     "name": "stdout",
     "output_type": "stream",
     "text": [
      "FAISS Index total vectors: 104\n"
     ]
    }
   ],
   "source": [
    "import faiss\n",
    "\n",
    "dimension = embeddings.shape[1]\n",
    "index = faiss.IndexFlatIP(dimension)\n",
    "\n",
    "index.add(embeddings)\n",
    "print(f\"FAISS Index total vectors: {index.ntotal}\")"
   ]
  },
  {
   "cell_type": "code",
   "execution_count": 6,
   "metadata": {},
   "outputs": [],
   "source": [
    "# Save FAISS index file to reuse later\n",
    "import pickle\n",
    "\n",
    "faiss.write_index(index, \"data/tokopoin_product.index\")\n",
    "\n",
    "with open(\"data/chunk_texts.pkl\", \"wb\") as f:\n",
    "    pickle.dump(texts, f)"
   ]
  },
  {
   "cell_type": "code",
   "execution_count": 7,
   "metadata": {},
   "outputs": [
    {
     "name": "stdout",
     "output_type": "stream",
     "text": [
      "-----FAISS Vector Store Statistics-----\n",
      "\n",
      "FAISS Index total vectors: 104\n",
      "Vector Dimension:  1024\n",
      "Index type:  <class 'faiss.swigfaiss_avx2.IndexFlatIP'>\n"
     ]
    }
   ],
   "source": [
    "import faiss\n",
    "index = faiss.read_index('./data/tokopoin_product.index')\n",
    "\n",
    "print(\"-----FAISS Vector Store Statistics-----\\n\")\n",
    "\n",
    "# Jumlah vektor (jumlah dokumen yang di-indeks)\n",
    "print(\"FAISS Index total vectors:\", index.ntotal)\n",
    "\n",
    "# Dimensi dari tiap vektor\n",
    "print(\"Vector Dimension: \", index.d)\n",
    "\n",
    "# Jenis index yang digunakan\n",
    "print(\"Index type: \", type(index))"
   ]
  }
 ],
 "metadata": {
  "kernelspec": {
   "display_name": "Python 3",
   "language": "python",
   "name": "python3"
  },
  "language_info": {
   "codemirror_mode": {
    "name": "ipython",
    "version": 3
   },
   "file_extension": ".py",
   "mimetype": "text/x-python",
   "name": "python",
   "nbconvert_exporter": "python",
   "pygments_lexer": "ipython3",
   "version": "3.13.3"
  },
  "orig_nbformat": 4
 },
 "nbformat": 4,
 "nbformat_minor": 2
}
